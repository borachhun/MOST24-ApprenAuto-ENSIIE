{
 "cells": [
  {
   "cell_type": "code",
   "execution_count": 49,
   "id": "babe1fa2",
   "metadata": {},
   "outputs": [],
   "source": [
    "# Import library\n",
    "\n",
    "import pandas as pd\n",
    "import numpy as np\n",
    "from sklearn.model_selection import KFold\n",
    "from sklearn.impute import KNNImputer, SimpleImputer\n",
    "from category_encoders import HashingEncoder\n",
    "from sklearn.model_selection import cross_validate\n",
    "from sklearn.preprocessing import StandardScaler\n",
    "from sklearn.linear_model import LogisticRegression\n",
    "from sklearn.svm import LinearSVC\n",
    "import lightgbm as lgb"
   ]
  },
  {
   "cell_type": "markdown",
   "id": "553c188b",
   "metadata": {},
   "source": [
    "# Training data preparation"
   ]
  },
  {
   "cell_type": "code",
   "execution_count": 50,
   "id": "6576616a",
   "metadata": {},
   "outputs": [],
   "source": [
    "# Read data\n",
    "\n",
    "train_data = pd.read_csv('train.csv')\n",
    "\n",
    "X_train_data = train_data.drop(['Transported'], axis='columns')\n",
    "Y_train_data = train_data['Transported']"
   ]
  },
  {
   "cell_type": "code",
   "execution_count": 51,
   "id": "2607cb58",
   "metadata": {},
   "outputs": [],
   "source": [
    "def impute_data(df):\n",
    "\n",
    "    ## Missing value\n",
    "    cat_col = ['HomePlanet','CryoSleep', 'Destination', 'VIP']\n",
    "    num_col = ['Age', 'RoomService', 'FoodCourt', 'ShoppingMall', 'Spa', 'VRDeck']\n",
    "\n",
    "    # Using Simple Imputer to deal with missing value of categorical variables\n",
    "    imputer = SimpleImputer(strategy=\"most_frequent\")\n",
    "    imputer.fit(df[cat_col])\n",
    "    df[cat_col] = imputer.transform(df[cat_col])\n",
    "\n",
    "    # Using KNN Imputer to deal with missing value of numerical variables\n",
    "    imputer = KNNImputer(n_neighbors=7)\n",
    "    imputer.fit(df[num_col])\n",
    "    df[num_col] = imputer.transform(df[num_col])\n",
    "\n",
    "    # Remove missing value of cabin and name (because can not fill those missing value)\n",
    "    # df = df.dropna(axis='index')\n",
    "\n",
    "    return df\n",
    "\n",
    "X_train_data = impute_data(X_train_data)"
   ]
  },
  {
   "cell_type": "code",
   "execution_count": 52,
   "id": "863a3935",
   "metadata": {},
   "outputs": [],
   "source": [
    "def split_column(df):\n",
    "\n",
    "    # Create a column \"PassengerGroup\" from \"PassengerId\" \n",
    "    df['PassengerGroup'] = df['PassengerId'].str.split('_').str[0]\n",
    "\n",
    "    # Create column \"LastName\" from \"Name\"\n",
    "    df['LastName'] = df['Name'].str.split(' ').str[1]\n",
    "\n",
    "    # Split column \"Cabin\" into 3 columns \"CabinDeck\", \"CabinNum\", \"CabinSide\"\n",
    "    df[['CabinDeck', 'CabinNum', 'CabinSide']] = df.Cabin.str.split('/', expand = True)\n",
    "\n",
    "    # Drop 3 columns \"PassengerId\", \"Name\" and \"Cabin\"\n",
    "    df = df.drop(['PassengerId', 'Name', 'Cabin', 'CabinNum'], axis='columns')\n",
    "\n",
    "    return df\n",
    "\n",
    "X_train_data = split_column(X_train_data)"
   ]
  },
  {
   "cell_type": "code",
   "execution_count": 53,
   "id": "8e9da51b",
   "metadata": {},
   "outputs": [],
   "source": [
    "# Convert boolean to integer: 0 = False, 1 = True\n",
    "\n",
    "def bool_to_int(df):\n",
    "    df['CryoSleep'] = list(map(int, df['CryoSleep']))\n",
    "    df['VIP'] = list(map(int, df['VIP']))\n",
    "    return df\n",
    "\n",
    "X_train_data = bool_to_int(X_train_data)\n",
    "\n",
    "Y_train_data = pd.Series(list(map(int, Y_train_data)))"
   ]
  },
  {
   "cell_type": "code",
   "execution_count": 54,
   "id": "ea01caf0",
   "metadata": {},
   "outputs": [],
   "source": [
    "def dummy_variable(df):\n",
    "\n",
    "    # Create dummy variables and drop original ones\n",
    "\n",
    "    HomePlanetDummies = pd.get_dummies(df['HomePlanet'], prefix='HomePlanet')\n",
    "    df = pd.concat([df, HomePlanetDummies], axis='columns')\n",
    "\n",
    "    DestinationDummies = pd.get_dummies(df['Destination'], prefix='Destination')\n",
    "    df = pd.concat([df, DestinationDummies], axis='columns')\n",
    "\n",
    "    CabinDeckDummies = pd.get_dummies(df['CabinDeck'], prefix='CabinDeck')\n",
    "    df = pd.concat([df, CabinDeckDummies], axis='columns')\n",
    "\n",
    "    CabinSideDummies = pd.get_dummies(df['CabinSide'], prefix='CabinSide')\n",
    "    df = pd.concat([df, CabinSideDummies], axis='columns')\n",
    "\n",
    "    df = df.drop(['HomePlanet', 'Destination', 'CabinDeck', 'CabinSide'], axis='columns')\n",
    "\n",
    "    return df\n",
    "\n",
    "X_train_data = dummy_variable(X_train_data)"
   ]
  },
  {
   "cell_type": "code",
   "execution_count": 55,
   "id": "3968caa5",
   "metadata": {},
   "outputs": [],
   "source": [
    "def hashing_encode(df):\n",
    "\n",
    "    # Using feature hashing to encode PassengerGroup, CabinDeck and LastName\n",
    "\n",
    "    encoder = HashingEncoder(cols='PassengerGroup',n_components=10)\n",
    "    PassengerGroupDummies = pd.DataFrame(encoder.fit_transform(df['PassengerGroup']))\n",
    "    PassengerGroupDummies = PassengerGroupDummies.add_prefix('PassengerGroup_')\n",
    "    df = pd.concat([df, PassengerGroupDummies], axis='columns')\n",
    "\n",
    "    # encoder = HashingEncoder(cols='CabinDeck',n_components=5)\n",
    "    # CabinDeckDummies = pd.DataFrame(encoder.fit_transform(df['CabinDeck']))\n",
    "    # CabinDeckDummies = CabinDeckDummies.add_prefix('CabinDeck_')\n",
    "    # df = pd.concat([df, CabinDeckDummies], axis='columns')\n",
    "\n",
    "    encoder = HashingEncoder(cols='LastName',n_components=5)\n",
    "    LastNameDummies = pd.DataFrame(encoder.fit_transform(df['LastName']))\n",
    "    LastNameDummies = LastNameDummies.add_prefix('LastName_')\n",
    "    df = pd.concat([df, LastNameDummies], axis='columns')\n",
    "\n",
    "    # df = df.drop(['PassengerGroup', 'CabinDeck', 'LastName'], axis='columns')\n",
    "    df = df.drop(['PassengerGroup', 'LastName'], axis='columns')\n",
    "\n",
    "    return df\n",
    "\n",
    "X_train_data = hashing_encode(X_train_data)"
   ]
  },
  {
   "cell_type": "code",
   "execution_count": 56,
   "id": "33c56714",
   "metadata": {},
   "outputs": [],
   "source": [
    "# Standardization\n",
    "\n",
    "scaler = StandardScaler().fit(X_train_data)\n",
    "\n",
    "X_train_data = pd.DataFrame(scaler.transform(X_train_data))"
   ]
  },
  {
   "cell_type": "markdown",
   "id": "1385e95a",
   "metadata": {},
   "source": [
    "# Testing data preparation"
   ]
  },
  {
   "cell_type": "code",
   "execution_count": 57,
   "id": "153ce523",
   "metadata": {},
   "outputs": [],
   "source": [
    "# Read data\n",
    "\n",
    "X_test_data = pd.read_csv('test.csv')\n",
    "\n",
    "# For writing to submission file\n",
    "PassengerIdTest = X_test_data['PassengerId']"
   ]
  },
  {
   "cell_type": "code",
   "execution_count": 58,
   "id": "e20784ac",
   "metadata": {},
   "outputs": [],
   "source": [
    "X_test_data = impute_data(X_test_data)"
   ]
  },
  {
   "cell_type": "code",
   "execution_count": 59,
   "id": "789a4181",
   "metadata": {},
   "outputs": [],
   "source": [
    "X_test_data = split_column(X_test_data)"
   ]
  },
  {
   "cell_type": "code",
   "execution_count": 60,
   "id": "19a10f58",
   "metadata": {},
   "outputs": [],
   "source": [
    "X_test_data = bool_to_int(X_test_data)"
   ]
  },
  {
   "cell_type": "code",
   "execution_count": 61,
   "id": "8923de54",
   "metadata": {},
   "outputs": [],
   "source": [
    "X_test_data = dummy_variable(X_test_data)"
   ]
  },
  {
   "cell_type": "code",
   "execution_count": 62,
   "id": "a96e7394",
   "metadata": {},
   "outputs": [],
   "source": [
    "X_test_data = hashing_encode(X_test_data)"
   ]
  },
  {
   "cell_type": "code",
   "execution_count": 63,
   "id": "2b5f0837",
   "metadata": {},
   "outputs": [],
   "source": [
    "# Standardization\n",
    "\n",
    "X_test_data = pd.DataFrame(scaler.transform(X_test_data))"
   ]
  },
  {
   "cell_type": "markdown",
   "id": "b37d9ecb",
   "metadata": {},
   "source": [
    "# Training and testing"
   ]
  },
  {
   "cell_type": "markdown",
   "id": "d31e4387",
   "metadata": {},
   "source": [
    "### Lightgbm"
   ]
  },
  {
   "cell_type": "code",
   "execution_count": 64,
   "id": "f1ff63ca",
   "metadata": {},
   "outputs": [
    {
     "data": {
      "text/html": [
       "<style>#sk-container-id-4 {color: black;background-color: white;}#sk-container-id-4 pre{padding: 0;}#sk-container-id-4 div.sk-toggleable {background-color: white;}#sk-container-id-4 label.sk-toggleable__label {cursor: pointer;display: block;width: 100%;margin-bottom: 0;padding: 0.3em;box-sizing: border-box;text-align: center;}#sk-container-id-4 label.sk-toggleable__label-arrow:before {content: \"▸\";float: left;margin-right: 0.25em;color: #696969;}#sk-container-id-4 label.sk-toggleable__label-arrow:hover:before {color: black;}#sk-container-id-4 div.sk-estimator:hover label.sk-toggleable__label-arrow:before {color: black;}#sk-container-id-4 div.sk-toggleable__content {max-height: 0;max-width: 0;overflow: hidden;text-align: left;background-color: #f0f8ff;}#sk-container-id-4 div.sk-toggleable__content pre {margin: 0.2em;color: black;border-radius: 0.25em;background-color: #f0f8ff;}#sk-container-id-4 input.sk-toggleable__control:checked~div.sk-toggleable__content {max-height: 200px;max-width: 100%;overflow: auto;}#sk-container-id-4 input.sk-toggleable__control:checked~label.sk-toggleable__label-arrow:before {content: \"▾\";}#sk-container-id-4 div.sk-estimator input.sk-toggleable__control:checked~label.sk-toggleable__label {background-color: #d4ebff;}#sk-container-id-4 div.sk-label input.sk-toggleable__control:checked~label.sk-toggleable__label {background-color: #d4ebff;}#sk-container-id-4 input.sk-hidden--visually {border: 0;clip: rect(1px 1px 1px 1px);clip: rect(1px, 1px, 1px, 1px);height: 1px;margin: -1px;overflow: hidden;padding: 0;position: absolute;width: 1px;}#sk-container-id-4 div.sk-estimator {font-family: monospace;background-color: #f0f8ff;border: 1px dotted black;border-radius: 0.25em;box-sizing: border-box;margin-bottom: 0.5em;}#sk-container-id-4 div.sk-estimator:hover {background-color: #d4ebff;}#sk-container-id-4 div.sk-parallel-item::after {content: \"\";width: 100%;border-bottom: 1px solid gray;flex-grow: 1;}#sk-container-id-4 div.sk-label:hover label.sk-toggleable__label {background-color: #d4ebff;}#sk-container-id-4 div.sk-serial::before {content: \"\";position: absolute;border-left: 1px solid gray;box-sizing: border-box;top: 0;bottom: 0;left: 50%;z-index: 0;}#sk-container-id-4 div.sk-serial {display: flex;flex-direction: column;align-items: center;background-color: white;padding-right: 0.2em;padding-left: 0.2em;position: relative;}#sk-container-id-4 div.sk-item {position: relative;z-index: 1;}#sk-container-id-4 div.sk-parallel {display: flex;align-items: stretch;justify-content: center;background-color: white;position: relative;}#sk-container-id-4 div.sk-item::before, #sk-container-id-4 div.sk-parallel-item::before {content: \"\";position: absolute;border-left: 1px solid gray;box-sizing: border-box;top: 0;bottom: 0;left: 50%;z-index: -1;}#sk-container-id-4 div.sk-parallel-item {display: flex;flex-direction: column;z-index: 1;position: relative;background-color: white;}#sk-container-id-4 div.sk-parallel-item:first-child::after {align-self: flex-end;width: 50%;}#sk-container-id-4 div.sk-parallel-item:last-child::after {align-self: flex-start;width: 50%;}#sk-container-id-4 div.sk-parallel-item:only-child::after {width: 0;}#sk-container-id-4 div.sk-dashed-wrapped {border: 1px dashed gray;margin: 0 0.4em 0.5em 0.4em;box-sizing: border-box;padding-bottom: 0.4em;background-color: white;}#sk-container-id-4 div.sk-label label {font-family: monospace;font-weight: bold;display: inline-block;line-height: 1.2em;}#sk-container-id-4 div.sk-label-container {text-align: center;}#sk-container-id-4 div.sk-container {/* jupyter's `normalize.less` sets `[hidden] { display: none; }` but bootstrap.min.css set `[hidden] { display: none !important; }` so we also need the `!important` here to be able to override the default hidden behavior on the sphinx rendered scikit-learn.org. See: https://github.com/scikit-learn/scikit-learn/issues/21755 */display: inline-block !important;position: relative;}#sk-container-id-4 div.sk-text-repr-fallback {display: none;}</style><div id=\"sk-container-id-4\" class=\"sk-top-container\"><div class=\"sk-text-repr-fallback\"><pre>LGBMClassifier(learning_rate=0.005, n_estimators=500)</pre><b>In a Jupyter environment, please rerun this cell to show the HTML representation or trust the notebook. <br />On GitHub, the HTML representation is unable to render, please try loading this page with nbviewer.org.</b></div><div class=\"sk-container\" hidden><div class=\"sk-item\"><div class=\"sk-estimator sk-toggleable\"><input class=\"sk-toggleable__control sk-hidden--visually\" id=\"sk-estimator-id-4\" type=\"checkbox\" checked><label for=\"sk-estimator-id-4\" class=\"sk-toggleable__label sk-toggleable__label-arrow\">LGBMClassifier</label><div class=\"sk-toggleable__content\"><pre>LGBMClassifier(learning_rate=0.005, n_estimators=500)</pre></div></div></div></div></div>"
      ],
      "text/plain": [
       "LGBMClassifier(learning_rate=0.005, n_estimators=500)"
      ]
     },
     "execution_count": 64,
     "metadata": {},
     "output_type": "execute_result"
    }
   ],
   "source": [
    "lgbm = lgb.LGBMClassifier(boosting_type ='gbdt', learning_rate = 0.005, n_estimators = 500, num_leaves = 31)\n",
    "lgbm.fit(X_train_data, Y_train_data)"
   ]
  },
  {
   "cell_type": "code",
   "execution_count": 68,
   "id": "fc86ebb2",
   "metadata": {},
   "outputs": [],
   "source": [
    "res = pd.DataFrame(\n",
    "{\n",
    "             'PassengerId': list(PassengerIdTest),\n",
    "             'Transported': [(p == 1) for p in list(prediction)]\n",
    "         }\n",
    ")\n",
    "res.to_csv('prediction.csv', index=False)"
   ]
  },
  {
   "cell_type": "code",
   "execution_count": null,
   "id": "788fc774",
   "metadata": {},
   "outputs": [],
   "source": []
  }
 ],
 "metadata": {
  "kernelspec": {
   "display_name": "Python 3 (ipykernel)",
   "language": "python",
   "name": "python3"
  },
  "language_info": {
   "codemirror_mode": {
    "name": "ipython",
    "version": 3
   },
   "file_extension": ".py",
   "mimetype": "text/x-python",
   "name": "python",
   "nbconvert_exporter": "python",
   "pygments_lexer": "ipython3",
   "version": "3.8.8"
  }
 },
 "nbformat": 4,
 "nbformat_minor": 5
}
